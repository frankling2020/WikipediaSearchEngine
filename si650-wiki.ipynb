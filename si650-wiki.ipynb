{
 "cells": [
  {
   "cell_type": "markdown",
   "id": "733768f2-2da1-4806-b2c6-c62cb01f8fad",
   "metadata": {},
   "source": [
    "### Import Library"
   ]
  },
  {
   "cell_type": "code",
   "execution_count": 1,
   "id": "a5d21f0f-faf2-4c67-939f-5fa8950b2195",
   "metadata": {},
   "outputs": [],
   "source": [
    "from nltk.tokenize import RegexpTokenizer\n",
    "import torch\n",
    "from transformers import T5Tokenizer, T5ForConditionalGeneration\n",
    "import gzip\n",
    "from collections import defaultdict\n",
    "import json"
   ]
  },
  {
   "cell_type": "code",
   "execution_count": 10,
   "id": "0c5d1f05-b113-4cfe-8de0-72e8f9454c3c",
   "metadata": {},
   "outputs": [],
   "source": [
    "class Doc2QueryAugmenter:\n",
    "    \"\"\"\n",
    "    This class is responsible for generating queries for a document.\n",
    "    These queries can augment the document before indexing.\n",
    "\n",
    "    MUST READ: https://huggingface.co/doc2query/msmarco-t5-base-v1\n",
    "\n",
    "    OPTIONAL reading\n",
    "        1. Document Expansion by Query Prediction (Nogueira et al.): https://arxiv.org/pdf/1904.08375.pdf\n",
    "    \"\"\"\n",
    "    def __init__(self, doc2query_model_name: str = 'doc2query/msmarco-t5-base-v1') -> None:\n",
    "        \"\"\"\n",
    "        Creates the T5 model object and the corresponding dense tokenizer.\n",
    "        \n",
    "        Args:\n",
    "            doc2query_model_name: The name of the T5 model architecture used for generating queries\n",
    "        \"\"\"\n",
    "        self.device = torch.device('cpu')  # Do not change this unless you know what you are doing\n",
    "        if torch.backends.cuda.is_built():\n",
    "            self.device = torch.device('cuda')\n",
    "        elif torch.backends.mps.is_built():\n",
    "            self.device = torch.device('mps')\n",
    "        print(f\"Using {self.device}\")\n",
    "        # TODO (HW3): Create the dense tokenizer and query generation model using HuggingFace transformers\n",
    "        self.tokenizer = T5Tokenizer.from_pretrained(doc2query_model_name)\n",
    "        self.model = T5ForConditionalGeneration.from_pretrained(doc2query_model_name).to(self.device)\n",
    "\n",
    "    def get_queries(self, document: str, n_queries: int = 5, prefix_prompt: str = '') -> list[str]:\n",
    "        \"\"\"\n",
    "        Steps\n",
    "            1. Use the dense tokenizer/encoder to create the dense document vector.\n",
    "            2. Use the T5 model to generate the dense query vectors (you should have a list of vectors).\n",
    "            3. Decode the query vector using the tokenizer/decode to get the appropriate queries.\n",
    "            4. Return the queries.\n",
    "         \n",
    "            Ensure you take care of edge cases.\n",
    "         \n",
    "        OPTIONAL (DO NOT DO THIS before you finish the assignment):\n",
    "            Neural models are best performing when batched to the GPU.\n",
    "            Try writing a separate function which can deal with batches of documents.\n",
    "        \n",
    "        Args:\n",
    "            document: The text from which queries are to be generated\n",
    "            n_queries: The total number of queries to be generated\n",
    "            prefix_prompt: An optional parameter that gets added before the text.\n",
    "                Some models like flan-t5 are not fine-tuned to generate queries.\n",
    "                So we need to add a prompt to instruct the model to generate queries.\n",
    "                This string enables us to create a prefixed prompt to generate queries for the models.\n",
    "                See the PDF for what you need to do for this part.\n",
    "                Prompt-engineering: https://en.wikipedia.org/wiki/Prompt_engineering\n",
    "        \n",
    "        Returns:\n",
    "            A list of query strings generated from the text\n",
    "        \"\"\"\n",
    "        # Note: Feel free to change these values to experiment\n",
    "        document_max_token_length = 400  # as used in OPTIONAL Reading 1\n",
    "        top_p = 0.85\n",
    "\n",
    "        # NOTE: See https://huggingface.co/doc2query/msmarco-t5-base-v1 for details\n",
    "\n",
    "        # TODO (HW3): For the given model, generate a list of queries that might reasonably be issued to search\n",
    "        #       for that document\n",
    "        # NOTE: Do not forget edge cases\n",
    "        queries = []\n",
    "        if n_queries > 0:\n",
    "            text = prefix_prompt + document\n",
    "            input_ids = self.tokenizer.encode(text, max_length=document_max_token_length, truncation=True, return_tensors='pt').to(self.device)\n",
    "            outputs = self.model.generate(\n",
    "                input_ids=input_ids,\n",
    "                do_sample=True,\n",
    "                max_length=64,\n",
    "                top_p=top_p,\n",
    "                num_return_sequences=n_queries\n",
    "            )\n",
    "            for output in outputs:\n",
    "                query = self.tokenizer.decode(output, skip_special_tokens=True)\n",
    "                queries.append(query)\n",
    "        return queries\n",
    "    \n",
    "    def get_batched_queries(self, documents: list[str], n_queries: int = 5, prefix_prompt: str = '') -> list[list[str]]:\n",
    "        document_max_token_length = 400  # as used in OPTIONAL Reading 1\n",
    "        top_p = 0.85\n",
    "\n",
    "        texts = [prefix_prompt + document for document in documents]\n",
    "        input_ids = self.tokenizer.batch_encode_plus(texts, max_length=document_max_token_length, truncation=True, padding=True, return_tensors='pt').to(self.device)\n",
    "        outputs = self.model.generate(\n",
    "            input_ids=input_ids['input_ids'],\n",
    "            do_sample=True,\n",
    "            max_length=64,\n",
    "            top_p=top_p,\n",
    "            num_return_sequences=n_queries\n",
    "        )\n",
    "        # print(outputs.shape)\n",
    "\n",
    "        queries = []\n",
    "        if len(outputs) > 1:\n",
    "            queries = self.tokenizer.batch_decode(outputs, skip_special_tokens=True)\n",
    "            queries = [queries[i:i+n_queries] for i in range(0, len(queries), n_queries)]\n",
    "        return queries"
   ]
  },
  {
   "cell_type": "code",
   "execution_count": 11,
   "id": "5a088d62-9a7a-4d7a-bdbe-8cfdacaf6178",
   "metadata": {},
   "outputs": [],
   "source": [
    "def read_dataset(dataset_path: str, max_docs: int = -1, batch_size: int = 1):\n",
    "    \"\"\"Read the dataset from the path with a maximum number of documents to read\n",
    "\n",
    "    Args:\n",
    "        dataset_path (str): dataset path\n",
    "        max_docs (int, optional): maximum number of documents to read. Defaults to -1.\n",
    "\n",
    "    Yields:\n",
    "        dict: a document\n",
    "    \"\"\"\n",
    "    open_func = lambda x: gzip.open(x, 'rb') if x.endswith('.gz') else open(x, 'r')\n",
    "    with open_func(dataset_path) as f:\n",
    "        if batch_size > 1:\n",
    "            batch = defaultdict(list)\n",
    "            cnt = 0\n",
    "            for i, line in enumerate(f):\n",
    "                if max_docs != -1 and i >= max_docs:\n",
    "                    break\n",
    "                doc = json.loads(line)\n",
    "                for k, v in doc.items():\n",
    "                    batch[k].append(v)\n",
    "                cnt += 1\n",
    "                if cnt == batch_size:\n",
    "                    yield batch\n",
    "                    batch.clear()\n",
    "                    cnt = 0\n",
    "            if cnt > 0:\n",
    "                yield batch\n",
    "        else:\n",
    "            for i, line in enumerate(f):\n",
    "                if max_docs != -1 and i >= max_docs:\n",
    "                    break\n",
    "                yield json.loads(line)"
   ]
  },
  {
   "cell_type": "code",
   "execution_count": 12,
   "id": "e6186246-ec4b-4280-9920-a239925391d2",
   "metadata": {},
   "outputs": [
    {
     "name": "stdout",
     "output_type": "stream",
     "text": [
      "Using cuda\n"
     ]
    }
   ],
   "source": [
    "DATASET_PATH = \"si650-project/wikipedia_200k_dataset.jsonl.gz\"\n",
    "max_docs = 6400\n",
    "batch_size = 32\n",
    "n_queries = 5\n",
    "token_key = \"text\"\n",
    "prefix_prompt = \"Generate a query for the following text: \"\n",
    "queries = {}\n",
    "d2q = Doc2QueryAugmenter()"
   ]
  },
  {
   "cell_type": "code",
   "execution_count": 13,
   "id": "ac5c0f23-40e1-4e7f-973e-498778757b12",
   "metadata": {},
   "outputs": [
    {
     "name": "stderr",
     "output_type": "stream",
     "text": [
      "100%|██████████| 200/200 [08:10<00:00,  2.45s/it]\n"
     ]
    }
   ],
   "source": [
    "from time import time\n",
    "from tqdm import tqdm\n",
    "\n",
    "t1 = time()\n",
    "for doc in tqdm(read_dataset(DATASET_PATH, max_docs, batch_size), total=max_docs//batch_size):\n",
    "    doc_id = doc[\"docid\"]\n",
    "    texts = doc[token_key]\n",
    "    if batch_size > 1:        \n",
    "        batch_queries = d2q.get_batched_queries(texts, n_queries, prefix_prompt=prefix_prompt)\n",
    "        for id, doc_queries in zip(doc_id, batch_queries):\n",
    "            queries[id] = doc_queries\n",
    "    else:\n",
    "        queries[doc_id] = d2q.get_queries(texts, n_queries, prefix_prompt=prefix_prompt)"
   ]
  },
  {
   "cell_type": "code",
   "execution_count": 16,
   "id": "0edcdb4f-7f00-4604-b6c0-5e818b322724",
   "metadata": {},
   "outputs": [],
   "source": [
    "with open(\"doc2query_6400.json\", \"w\") as f:\n",
    "    json.dump(queries, f, indent=4)"
   ]
  },
  {
   "cell_type": "markdown",
   "id": "7c50eeca-6cbf-4979-ac9c-a987f40ebb14",
   "metadata": {},
   "source": [
    "### Bi-Encoder"
   ]
  },
  {
   "cell_type": "code",
   "execution_count": 19,
   "id": "fcea7291-88e1-437b-84c3-54a8e46b0d44",
   "metadata": {},
   "outputs": [
    {
     "name": "stderr",
     "output_type": "stream",
     "text": [
      "100%|██████████| 6400/6400 [00:00<00:00, 7174.26it/s]\n"
     ]
    }
   ],
   "source": [
    "related_docids = []\n",
    "related_docs = []\n",
    "for doc in tqdm(read_dataset(DATASET_PATH, max_docs), total=max_docs):\n",
    "    doc_id = int(doc['docid'])\n",
    "    related_docids.append(doc_id)\n",
    "    related_docs.append(doc['text'])"
   ]
  },
  {
   "cell_type": "code",
   "execution_count": 184,
   "id": "f71dde9a-e03a-4225-a136-fa2580b888c5",
   "metadata": {},
   "outputs": [],
   "source": [
    "from transformers import AutoTokenizer, AutoModel\n",
    "from sentence_transformers import util, SentenceTransformer\n",
    "\n",
    "class BiEncode:\n",
    "    def __init__(self, bi_encoder_name):\n",
    "        self.device = torch.device('cuda')\n",
    "        self.model = SentenceTransformer(bi_encoder_name).to(self.device)\n",
    "    \n",
    "    def cos_sim(self, doc, queries, num_query):\n",
    "        doc_emb = self.model.encode(doc, batch_size=128, show_progress_bar=False, normalize_embeddings=True)\n",
    "        query_emb = self.model.encode(queries, batch_size=128, show_progress_bar=False, normalize_embeddings=True)\n",
    "        m, n = query_emb.shape\n",
    "        query_emb = query_emb.reshape(-1, num_query, n)\n",
    "        query_emb_var = query_emb.var(axis=-2).sum(-1)\n",
    "        query_emb = query_emb.mean(axis=-2)\n",
    "        f1 = (doc_emb * query_emb).sum(-1)\n",
    "        r1 = ((doc_emb - query_emb)**2).sum(-1)\n",
    "        r2 = (query_emb_var + 1e-6)\n",
    "        # print(r1.shape, r2.shape)\n",
    "        f2 =  r1 / r2 \n",
    "        return f1, f2, query_emb_var"
   ]
  },
  {
   "cell_type": "code",
   "execution_count": 185,
   "id": "7c8810a1-fb03-4ce6-991b-688b3a1b032e",
   "metadata": {},
   "outputs": [
    {
     "data": {
      "text/plain": [
       "array([[ 0.01516773,  0.40458512,  0.33601803, ...,  0.13327399,\n",
       "         0.08983023, -0.00220924],\n",
       "       [-0.26795918,  0.40976176,  0.02094324, ...,  0.02651545,\n",
       "        -0.0959981 ,  0.13918507]], dtype=float32)"
      ]
     },
     "execution_count": 185,
     "metadata": {},
     "output_type": "execute_result"
    }
   ],
   "source": [
    "bi_encoder_name = 'sentence-transformers/msmarco-distilbert-dot-v5'\n",
    "encoder = BiEncode(bi_encoder_name)\n",
    "encoder.model.encode([\"hello, world\", \"where is michigan\"])"
   ]
  },
  {
   "cell_type": "code",
   "execution_count": 186,
   "id": "715b3f41-5e3e-4a35-ac73-5f1d4dd95dad",
   "metadata": {},
   "outputs": [
    {
     "data": {
      "text/plain": [
       "(array([0.8624313 , 0.79494095], dtype=float32),\n",
       " array([1.5272725, 2.7671297], dtype=float32),\n",
       " array([0.10886682, 0.10886682], dtype=float32))"
      ]
     },
     "execution_count": 186,
     "metadata": {},
     "output_type": "execute_result"
    }
   ],
   "source": [
    "encoder.cos_sim([\"hello\", \"say\"], [\"hello, world\", \"where is michigan\", \"hello, world\", \"where is michigan\"], 2)"
   ]
  },
  {
   "cell_type": "code",
   "execution_count": 189,
   "id": "4c41d4cb-cb0e-40ca-9030-205e67484e2d",
   "metadata": {},
   "outputs": [
    {
     "name": "stderr",
     "output_type": "stream",
     "text": [
      "100%|██████████| 50/50 [00:56<00:00,  1.13s/it]\n"
     ]
    }
   ],
   "source": [
    "import numpy as np\n",
    "\n",
    "results = []\n",
    "results_var = []\n",
    "results_diff = []\n",
    "batch_size = 128\n",
    "for doc in tqdm(read_dataset(DATASET_PATH, max_docs, batch_size), total=max_docs//batch_size):\n",
    "    doc_id = doc[\"docid\"]\n",
    "    texts = doc[token_key]\n",
    "    doc_queries = []\n",
    "    for docid in doc_id:\n",
    "        doc_queries.extend(queries.get(docid, []))\n",
    "    emb_sim, emb_diff, emb_var = encoder.cos_sim(texts, doc_queries, n_queries)\n",
    "    results.append(emb_sim)\n",
    "    results_diff.append(emb_diff)    \n",
    "    results_var.append(emb_var)"
   ]
  },
  {
   "cell_type": "code",
   "execution_count": 190,
   "id": "0fa38002-430f-4151-b13b-b456a56a94ac",
   "metadata": {},
   "outputs": [],
   "source": [
    "results = np.concatenate(results)\n",
    "results_diff = np.concatenate(results_diff)\n",
    "results_var = np.concatenate(results_var)"
   ]
  },
  {
   "cell_type": "code",
   "execution_count": 191,
   "id": "c2d91e04-5ff9-4ba1-bc3d-edc2078c12d6",
   "metadata": {},
   "outputs": [
    {
     "name": "stderr",
     "output_type": "stream",
     "text": [
      "/tmp/ipykernel_2514447/1243817846.py:2: UserWarning: \n",
      "\n",
      "`distplot` is a deprecated function and will be removed in seaborn v0.14.0.\n",
      "\n",
      "Please adapt your code to use either `displot` (a figure-level function with\n",
      "similar flexibility) or `histplot` (an axes-level function for histograms).\n",
      "\n",
      "For a guide to updating your code to use the new functions, please see\n",
      "https://gist.github.com/mwaskom/de44147ed2974457ad6372750bbe5751\n",
      "\n",
      "  sns.distplot(results)\n"
     ]
    },
    {
     "data": {
      "text/plain": [
       "<AxesSubplot: ylabel='Density'>"
      ]
     },
     "execution_count": 191,
     "metadata": {},
     "output_type": "execute_result"
    },
    {
     "data": {
      "image/png": "[encoded data removed]",
      "text/plain": [
       "<Figure size 640x480 with 1 Axes>"
      ]
     },
     "metadata": {},
     "output_type": "display_data"
    }
   ],
   "source": [
    "import seaborn as sns\n",
    "sns.distplot(results)"
   ]
  },
  {
   "cell_type": "code",
   "execution_count": 192,
   "id": "b99919a1-f7ef-4fdf-8483-8a8e348b963c",
   "metadata": {},
   "outputs": [
    {
     "name": "stderr",
     "output_type": "stream",
     "text": [
      "/tmp/ipykernel_2514447/3761750761.py:1: UserWarning: \n",
      "\n",
      "`distplot` is a deprecated function and will be removed in seaborn v0.14.0.\n",
      "\n",
      "Please adapt your code to use either `displot` (a figure-level function with\n",
      "similar flexibility) or `histplot` (an axes-level function for histograms).\n",
      "\n",
      "For a guide to updating your code to use the new functions, please see\n",
      "https://gist.github.com/mwaskom/de44147ed2974457ad6372750bbe5751\n",
      "\n",
      "  sns.distplot(results_var)\n"
     ]
    },
    {
     "data": {
      "text/plain": [
       "<AxesSubplot: ylabel='Density'>"
      ]
     },
     "execution_count": 192,
     "metadata": {},
     "output_type": "execute_result"
    },
    {
     "data": {
      "image/png": "[encoded data removed]",
      "text/plain": [
       "<Figure size 640x480 with 1 Axes>"
      ]
     },
     "metadata": {},
     "output_type": "display_data"
    }
   ],
   "source": [
    "sns.distplot(results_var)"
   ]
  },
  {
   "cell_type": "code",
   "execution_count": 193,
   "id": "c0c78a76-241d-4978-8c0b-8498496551ff",
   "metadata": {},
   "outputs": [
    {
     "name": "stderr",
     "output_type": "stream",
     "text": [
      "/tmp/ipykernel_2514447/2741701378.py:1: UserWarning: \n",
      "\n",
      "`distplot` is a deprecated function and will be removed in seaborn v0.14.0.\n",
      "\n",
      "Please adapt your code to use either `displot` (a figure-level function with\n",
      "similar flexibility) or `histplot` (an axes-level function for histograms).\n",
      "\n",
      "For a guide to updating your code to use the new functions, please see\n",
      "https://gist.github.com/mwaskom/de44147ed2974457ad6372750bbe5751\n",
      "\n",
      "  sns.distplot(results_var + results)\n"
     ]
    },
    {
     "data": {
      "text/plain": [
       "<AxesSubplot: ylabel='Density'>"
      ]
     },
     "execution_count": 193,
     "metadata": {},
     "output_type": "execute_result"
    },
    {
     "data": {
      "image/png": "[encoded data removed]",
      "text/plain": [
       "<Figure size 640x480 with 1 Axes>"
      ]
     },
     "metadata": {},
     "output_type": "display_data"
    }
   ],
   "source": [
    "sns.distplot(results_var + results)"
   ]
  },
  {
   "cell_type": "code",
   "execution_count": 194,
   "id": "1c17af8b-bfc1-43cf-b61e-95e20129f8f4",
   "metadata": {},
   "outputs": [
    {
     "data": {
      "text/plain": [
       "0.9846246"
      ]
     },
     "execution_count": 194,
     "metadata": {},
     "output_type": "execute_result"
    }
   ],
   "source": [
    "np.max(results_var + results)"
   ]
  },
  {
   "cell_type": "code",
   "execution_count": 195,
   "id": "74c8603b-e7d6-4624-a94d-a71ce7d4580a",
   "metadata": {},
   "outputs": [
    {
     "data": {
      "text/plain": [
       "0.6726353"
      ]
     },
     "execution_count": 195,
     "metadata": {},
     "output_type": "execute_result"
    }
   ],
   "source": [
    "np.min(results_var + results)"
   ]
  },
  {
   "cell_type": "code",
   "execution_count": 200,
   "id": "f2fa3fcc-9d77-4c48-947b-0445fc238f00",
   "metadata": {},
   "outputs": [
    {
     "name": "stderr",
     "output_type": "stream",
     "text": [
      "/tmp/ipykernel_2514447/583468324.py:3: UserWarning: \n",
      "\n",
      "`distplot` is a deprecated function and will be removed in seaborn v0.14.0.\n",
      "\n",
      "Please adapt your code to use either `displot` (a figure-level function with\n",
      "similar flexibility) or `histplot` (an axes-level function for histograms).\n",
      "\n",
      "For a guide to updating your code to use the new functions, please see\n",
      "https://gist.github.com/mwaskom/de44147ed2974457ad6372750bbe5751\n",
      "\n",
      "  sns.distplot(results_diff)\n"
     ]
    },
    {
     "data": {
      "image/png": "[encoded data removed]",
      "text/plain": [
       "<Figure size 640x480 with 1 Axes>"
      ]
     },
     "metadata": {},
     "output_type": "display_data"
    }
   ],
   "source": [
    "# results_diff.max()\n",
    "import matplotlib.pyplot as plt\n",
    "sns.distplot(results_diff)\n",
    "plt.xscale('log')"
   ]
  },
  {
   "cell_type": "markdown",
   "id": "71a196f0-72ab-4a7a-badc-75a157e79f49",
   "metadata": {},
   "source": [
    "#### Use the VectorRanker"
   ]
  },
  {
   "cell_type": "code",
   "execution_count": 231,
   "id": "701438fa-47ad-4925-9b27-5a00aa6c5eb5",
   "metadata": {},
   "outputs": [],
   "source": [
    "class VectorRanker:\n",
    "    def __init__(self, bi_encoder_model_name: str, encoded_docs,\n",
    "                 row_to_docid: list[int], encode_var: None) -> None:\n",
    "        \"\"\"\n",
    "        Initializes a VectorRanker object.\n",
    "\n",
    "        Args:\n",
    "            bi_encoder_model_name: The name of a huggingface model to use for initializing a 'SentenceTransformer'\n",
    "            encoded_docs: A matrix where each row is an already-encoded document, encoded using the same encoded\n",
    "                as specified with bi_encoded_model_name\n",
    "            row_to_docid: A list that is a mapping from the row number to the document id that row corresponds to\n",
    "                the embedding\n",
    "\n",
    "        Using zip(encoded_docs, row_to_docid) should give you the mapping between the docid and the embedding.\n",
    "        \"\"\"\n",
    "        # Use device='cpu' when doing model instantiation (for AG)\n",
    "        # If you know what the parameter does, feel free to play around with it\n",
    "        # TODO: Instantiate the bi-encoder model here\n",
    "        self.device = torch.device('cpu')  # Do not change this unless you know what you are doing\n",
    "        self.bi_encoder = SentenceTransformer(bi_encoder_model_name, device=self.device)\n",
    "        # self.doc_to_encoded_doc = dict(zip(row_to_docid, encoded_docs))\n",
    "        self.encoded_docs = encoded_docs\n",
    "        self.row_to_docid = row_to_docid\n",
    "        self.encode_var = encode_var if encode_var is not None else 0\n",
    "\n",
    "    def query(self, query: str) -> list[tuple[int, float]]:\n",
    "        \"\"\"\n",
    "        Encodes the query and then scores the relevance of the query with all the documents.\n",
    "\n",
    "        Args:\n",
    "            query: The query in its original form (no stopword filtering/tokenization)\n",
    "\n",
    "        Returns:\n",
    "            A sorted list of tuples containing the document id and its relevance to the query,\n",
    "            with most relevant documents first\n",
    "        \"\"\"\n",
    "        # NOTE: Do not forget to handle edge cases\n",
    "        doc_id_score = []\n",
    "        if len(query) != 0 and len(self.row_to_docid) != 0:\n",
    "            # TODO: Encode the query using the bi-encoder\n",
    "            encoded_query = self.bi_encoder.encode(query, device=self.device, normalize_embeddings=True)\n",
    "            # TODO: Score the similarity of the query vector and document vectors for relevance\n",
    "            # Calculate the dot products between the query embedding and all document embeddings\n",
    "            similarity_scores = np.sum(encoded_query * self.encoded_docs, axis=1) + self.encode_var\n",
    "            # TODO: Generate the ordered list of (document id, score) tuples\n",
    "            doc_id_score = list(zip(self.row_to_docid, similarity_scores))\n",
    "            # TODO: Sort the list so most relevant are first\n",
    "            doc_id_score.sort(key=lambda x: (-x[1], x[0]))\n",
    "        return doc_id_score"
   ]
  },
  {
   "cell_type": "code",
   "execution_count": 208,
   "id": "fa9d50dd-88ff-419c-bd7b-11f87a364301",
   "metadata": {},
   "outputs": [
    {
     "name": "stderr",
     "output_type": "stream",
     "text": [
      "100%|██████████| 6400/6400 [00:39<00:00, 162.16it/s]\n"
     ]
    }
   ],
   "source": [
    "dev_ids = []\n",
    "dev_encoded_docs = []\n",
    "\n",
    "for docid, q in tqdm(queries.items()):\n",
    "    dev_ids.append(docid)\n",
    "    query_emb = encoder.model.encode(q).mean(0)\n",
    "    dev_encoded_docs.append(query_emb)\n",
    "\n",
    "dev_encoded_docs = np.array(dev_encoded_docs)"
   ]
  },
  {
   "cell_type": "code",
   "execution_count": 233,
   "id": "9e18ae2e-3fda-4745-afec-10f9fa4f21fa",
   "metadata": {},
   "outputs": [],
   "source": [
    "vec_ranker = VectorRanker(bi_encoder_name, dev_encoded_docs, dev_ids, results_var)"
   ]
  },
  {
   "cell_type": "markdown",
   "id": "ce7c379b-8b71-4b70-92b7-b6727e58aa18",
   "metadata": {},
   "source": [
    "#### Relevance"
   ]
  },
  {
   "cell_type": "code",
   "execution_count": 234,
   "id": "28d5646a-36ae-4db1-8a31-583ae0755e83",
   "metadata": {},
   "outputs": [],
   "source": [
    "import numpy as np\n",
    "import pandas as pd\n",
    "from tqdm import tqdm\n",
    "\n",
    "\n",
    "def map_score(search_result_relevances: list[int], cut_off=10) -> float:\n",
    "    \"\"\"\n",
    "    Calculates the mean average precision score given a list of labeled search results, where\n",
    "    each item in the list corresponds to a document that was retrieved and is rated as 0 or 1\n",
    "    for whether it was relevant.\n",
    "\n",
    "    Args:\n",
    "        search_results: A list of 0/1 values for whether each search result returned by your \n",
    "                        ranking function is relevant\n",
    "        cut_off: The search result rank to stop calculating MAP. The default cut-off is 10;\n",
    "                 calculate MAP@10 to score your ranking function.\n",
    "\n",
    "    Returns:\n",
    "        The MAP score\n",
    "    \"\"\"\n",
    "    # TODO: Implement MAP\n",
    "    all_rel_doc = np.sum([1 if rel > 0 else 0 for rel in search_result_relevances])\n",
    "    correct_pos = [pos for pos in range(cut_off) if search_result_relevances[pos] > 0]\n",
    "    precision_k = [(i + 1) / (pos + 1) for i, pos in enumerate(correct_pos)]\n",
    "    return np.sum(precision_k) / all_rel_doc if len(precision_k) > 0 else 0\n",
    "\n",
    "\n",
    "def ndcg_score(search_result_relevances: list[float], \n",
    "               ideal_relevance_score_ordering: list[float], cut_off=10):\n",
    "    \"\"\"\n",
    "    Calculates the normalized discounted cumulative gain (NDCG) given a lists of relevance scores.\n",
    "    Relevance scores can be ints or floats, depending on how the data was labeled for relevance.\n",
    "\n",
    "    Args:\n",
    "        search_result_relevances: \n",
    "            A list of relevance scores for the results returned by your ranking function in the\n",
    "            order in which they were returned. These are the human-derived document relevance scores,\n",
    "            *not* the model generated scores.\n",
    "            \n",
    "        ideal_relevance_score_ordering: The list of relevance scores for results for a query, sorted by relevance score in descending order.\n",
    "            Use this list to calculate IDCG (Ideal DCG).\n",
    "\n",
    "        cut_off: The default cut-off is 10.\n",
    "\n",
    "    Returns:\n",
    "        The NDCG score\n",
    "    \"\"\"\n",
    "    # TODO: Implement NDCG\n",
    "    actual_len = min(len(search_result_relevances), cut_off)\n",
    "    dcg = search_result_relevances[0] + np.sum([gain / np.log2(pos + 2) for pos, gain in enumerate(search_result_relevances[1:actual_len])]) if actual_len != 0 else 0\n",
    "    ideal_len = min(len(ideal_relevance_score_ordering), cut_off)\n",
    "    idcg = ideal_relevance_score_ordering[0] +np.sum([gain / np.log2(pos + 2) for pos, gain in enumerate(ideal_relevance_score_ordering[1:ideal_len])]) if ideal_len != 0 else 0\n",
    "    return dcg / idcg if idcg > 0 else 0\n",
    "\n",
    "\n",
    "def run_relevance_tests(relevance_data_filename: str, ranker, dev_ids: None) -> dict[str, float]:\n",
    "    # TODO: Implement running relevance test for the search system for multiple queries.\n",
    "    \"\"\"\n",
    "    Measures the performance of the IR system using metrics, such as MAP and NDCG.\n",
    "    \n",
    "    Args:\n",
    "        relevance_data_filename [str]: The filename containing the relevance data to be loaded\n",
    "\n",
    "        ranker: A ranker configured with a particular scoring function to search through the document collection.\n",
    "                This is probably either a Ranker or a L2RRanker object, but something that has a query() method\n",
    "\n",
    "    Returns:\n",
    "        A dictionary containing both MAP and NDCG scores\n",
    "    \"\"\"\n",
    "    # TODO: Load the relevance dataset.\n",
    "    relevance_df = pd.read_csv(relevance_data_filename)\n",
    "    if dev_ids is not None:\n",
    "        relevance_df = relevance_df[relevance_df['docid'].isin(dev_ids)]\n",
    "    # TODO. Run all the dataset's queries using the provided ranker object.\n",
    "    map_scores = []\n",
    "    ndcg_scores = []\n",
    "\n",
    "    # Label the outputs from the algorithm using the relevance dataset.\n",
    "    # NOTE: Our relevance score has five levels (1-5). Use multi-level scores (1-5) when calculating NDCG.\n",
    "    # When calculating MAP, treat 1-3 as non-relevant (0) and 4-5 as relevant (1) because MAP uses binary scores.\n",
    "    # For example, if we have a list of labeled outputs like [4, 5, 3, 4, 1, 2, 1],\n",
    "    # convert this into [1, 1, 0, 1, 0, 0, 0] when you calculate the MAP score.\n",
    "    for query, relevance_doc in tqdm(relevance_df.groupby('query')):\n",
    "        doc_to_rel = {}\n",
    "        for _, row in relevance_doc.iterrows():\n",
    "            doc_to_rel[row['docid']] = row['rel']\n",
    "        result_doc = ranker.query(query)\n",
    "        if isinstance(result_doc[0], dict):\n",
    "            result_doc = [result.get('docid') for result in result_doc]\n",
    "        else:\n",
    "            result_doc = [result[0] for result in result_doc]\n",
    "        result_rel = [doc_to_rel.get(result, 1) for result in result_doc]\n",
    "        ideal_rel = sorted(doc_to_rel.values(), reverse=True)\n",
    "        map_result_rel = list(map(lambda x: 1 if x > 3 else 0, result_rel))\n",
    "        map_scores.append(map_score(map_result_rel))\n",
    "        ndcg_scores.append(ndcg_score(result_rel, ideal_rel))\n",
    "    # TODO: Compute the average MAP and NDCG across all queries and return the scores. \n",
    "    map_avg_score = np.mean(map_scores)\n",
    "    ndcg_avg_score = np.mean(ndcg_scores)\n",
    "    # 3: Return the scores.\n",
    "    return {'map': map_avg_score, 'ndcg': ndcg_avg_score, 'map_scores': map_scores, 'ndcg_scores': ndcg_scores}\n"
   ]
  },
  {
   "cell_type": "code",
   "execution_count": 235,
   "id": "1bc3ff18-4945-4930-be16-ad4303a42875",
   "metadata": {},
   "outputs": [
    {
     "name": "stderr",
     "output_type": "stream",
     "text": [
      "100%|██████████| 124/124 [00:04<00:00, 26.82it/s]\n"
     ]
    },
    {
     "data": {
      "text/plain": [
       "(0.058232511962350665, 0.8390042240888961)"
      ]
     },
     "execution_count": 235,
     "metadata": {},
     "output_type": "execute_result"
    }
   ],
   "source": [
    "train_filename = \"si650-project/hw2_relevance.train.csv\"\n",
    "p1_pipeline_info = run_relevance_tests(train_filename, vec_ranker, set(dev_ids))\n",
    "p1_pipeline_info['map'], p1_pipeline_info['ndcg']"
   ]
  },
  {
   "cell_type": "code",
   "execution_count": 236,
   "id": "a4864748-f9fb-489a-8f18-1a7010acb8d1",
   "metadata": {},
   "outputs": [
    {
     "name": "stderr",
     "output_type": "stream",
     "text": [
      "100%|██████████| 34/34 [00:01<00:00, 26.36it/s]\n"
     ]
    },
    {
     "data": {
      "text/plain": [
       "(0.049338235294117655, 0.7987914305150313)"
      ]
     },
     "execution_count": 236,
     "metadata": {},
     "output_type": "execute_result"
    }
   ],
   "source": [
    "test_filename = \"si650-project/hw2_relevance.test.csv\"\n",
    "p2_pipeline_info = run_relevance_tests(test_filename, vec_ranker, set(dev_ids))\n",
    "p2_pipeline_info['map'], p2_pipeline_info['ndcg']"
   ]
  },
  {
   "cell_type": "code",
   "execution_count": 237,
   "id": "b6b9e89c-e430-4c85-a15b-32f5790c81c3",
   "metadata": {},
   "outputs": [
    {
     "name": "stderr",
     "output_type": "stream",
     "text": [
      "100%|██████████| 18/18 [00:00<00:00, 28.35it/s]\n"
     ]
    },
    {
     "data": {
      "text/plain": [
       "(0.05555555555555555, 0.7068466247385624)"
      ]
     },
     "execution_count": 237,
     "metadata": {},
     "output_type": "execute_result"
    }
   ],
   "source": [
    "dev_filename = \"si650-project/hw2_relevance.dev.csv\"\n",
    "p3_pipeline_info = run_relevance_tests(dev_filename, vec_ranker, set(dev_ids))\n",
    "p3_pipeline_info['map'], p3_pipeline_info['ndcg']"
   ]
  },
  {
   "cell_type": "code",
   "execution_count": 241,
   "id": "b4c63c76-21a7-4881-8fff-86d36f46d32d",
   "metadata": {},
   "outputs": [
    {
     "data": {
      "text/plain": [
       "0.24069438277771607"
      ]
     },
     "execution_count": 241,
     "metadata": {},
     "output_type": "execute_result"
    }
   ],
   "source": [
    "a = np.array(p1_pipeline_info['map_scores']) \n",
    "a = a[(a> 0)]\n",
    "a.mean()"
   ]
  },
  {
   "cell_type": "code",
   "execution_count": null,
   "id": "318f95c7-891c-4911-b7a3-b3d14f7bdbc4",
   "metadata": {},
   "outputs": [],
   "source": []
  }
 ],
 "metadata": {
  "kernelspec": {
   "display_name": "Python 3 (ipykernel)",
   "language": "python",
   "name": "python3"
  },
  "language_info": {
   "codemirror_mode": {
    "name": "ipython",
    "version": 3
   },
   "file_extension": ".py",
   "mimetype": "text/x-python",
   "name": "python",
   "nbconvert_exporter": "python",
   "pygments_lexer": "ipython3",
   "version": "3.10.9"
  }
 },
 "nbformat": 4,
 "nbformat_minor": 5
}
